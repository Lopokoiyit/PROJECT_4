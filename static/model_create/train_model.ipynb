{
 "cells": [
  {
   "cell_type": "code",
   "execution_count": 74,
   "metadata": {},
   "outputs": [],
   "source": [
    "import matplotlib.pyplot as plt\n",
    "import cv2\n",
    "from tensorflow.keras.datasets import mnist\n",
    "from tensorflow.keras.optimizers import Adam\n",
    "from tensorflow.keras.models import Sequential\n",
    "from tensorflow.keras.layers import Dense, Dropout, Flatten, Conv2D, MaxPool2D, AvgPool2D, BatchNormalization, Reshape\n",
    "from tensorflow.keras.preprocessing.image import ImageDataGenerator\n",
    "from tensorflow.keras.callbacks import LearningRateScheduler\n",
    "from tensorflow.keras import backend\n",
    "from sklearn.preprocessing import LabelBinarizer\n",
    "from tensorflow.keras.layers import Dense,Conv2D,MaxPooling2D,Flatten,Dropout\n",
    "import numpy as np\n",
    "from sklearn.model_selection import train_test_split\n",
    "from keras.utils.np_utils import to_categorical\n",
    "from keras.callbacks import LearningRateScheduler\n",
    "import os"
   ]
  },
  {
   "cell_type": "code",
   "execution_count": 32,
   "metadata": {},
   "outputs": [],
   "source": [
    "# Handwritten data set\n",
    "(x_train, y_train), (x_test, y_test) = mnist.load_data()"
   ]
  },
  {
   "cell_type": "code",
   "execution_count": 33,
   "metadata": {},
   "outputs": [],
   "source": [
    "# Text numbers data set\n",
    "with open('text_x_data.npy', 'rb') as f:\n",
    "    x_data2 = np.load(f).astype(np.uint8)\n",
    "    x_data2 = cv2.bitwise_not(x_data2)\n",
    "with open('text_y_data.npy', 'rb') as f:\n",
    "    y_data2 = np.load(f)"
   ]
  },
  {
   "cell_type": "code",
   "execution_count": 34,
   "metadata": {},
   "outputs": [],
   "source": [
    "# Split text data set\n",
    "x_train2, x_test2, y_train2, y_test2 = train_test_split(x_data2, y_data2, test_size=0.2, random_state=42)"
   ]
  },
  {
   "cell_type": "code",
   "execution_count": 35,
   "metadata": {},
   "outputs": [
    {
     "name": "stdout",
     "output_type": "stream",
     "text": [
      "(60000, 28, 28) (10000, 28, 28) (60000,) (10000,)\n"
     ]
    }
   ],
   "source": [
    "print(x_train.shape, x_test.shape, y_train.shape, y_test.shape)"
   ]
  },
  {
   "cell_type": "code",
   "execution_count": 36,
   "metadata": {},
   "outputs": [],
   "source": [
    "x_train = x_train.reshape((x_train.shape[0],28,28,1))\n",
    "x_test = x_test.reshape((x_test.shape[0],28,28,1))\n",
    "y_train = to_categorical(y_train, num_classes = 10)\n",
    "y_train2 = to_categorical(y_train2, num_classes = 10)\n",
    "y_test = to_categorical(y_test, num_classes = 10)\n",
    "y_test2 = to_categorical(y_test2, num_classes = 10)"
   ]
  },
  {
   "cell_type": "code",
   "execution_count": 37,
   "metadata": {},
   "outputs": [],
   "source": [
    "# Join data sets\n",
    "x_train = np.concatenate((x_train, x_train2))\n",
    "x_test = np.concatenate((x_test, x_test2))\n",
    "y_train = np.concatenate((y_train, y_train2))\n",
    "y_test = np.concatenate((y_test, y_test2))"
   ]
  },
  {
   "cell_type": "code",
   "execution_count": 38,
   "metadata": {},
   "outputs": [
    {
     "name": "stdout",
     "output_type": "stream",
     "text": [
      "(68128, 28, 28, 1) (12032, 28, 28, 1) (68128, 10) (12032, 10)\n"
     ]
    }
   ],
   "source": [
    "print(x_train.shape, x_test.shape, y_train.shape, y_test.shape)"
   ]
  },
  {
   "cell_type": "code",
   "execution_count": 68,
   "metadata": {},
   "outputs": [
    {
     "name": "stdout",
     "output_type": "stream",
     "text": [
      "[0. 1. 0. 0. 0. 0. 0. 0. 0. 0.]\n"
     ]
    },
    {
     "data": {
      "text/plain": [
       "<matplotlib.image.AxesImage at 0x192d713b048>"
      ]
     },
     "execution_count": 68,
     "metadata": {},
     "output_type": "execute_result"
    },
    {
     "data": {
      "image/png": "[encoded data removed]",
      "text/plain": [
       "<Figure size 432x288 with 1 Axes>"
      ]
     },
     "metadata": {
      "needs_background": "light"
     },
     "output_type": "display_data"
    }
   ],
   "source": [
    "from random import randint\n",
    "\n",
    "\n",
    "idx = randint(0, y_train.shape[0])\n",
    "print(y_train[idx])\n",
    "\n",
    "# [1 0 0 0 0 0 0 0 0 0] is hot-one representation of 0\n",
    "# [0 1 0 0 0 0 0 0 0 0] is hot-one representation of 1\n",
    "# [0 0 1 0 0 0 0 0 0 0] is hot-one representation of 2 etc.\n",
    "plt.imshow(x_train[idx].reshape((28,28)),cmap='gray')"
   ]
  },
  {
   "cell_type": "code",
   "execution_count": null,
   "metadata": {},
   "outputs": [],
   "source": [
    "########\n",
    "#MODEL BELOW\n",
    "#########"
   ]
  },
  {
   "cell_type": "code",
   "execution_count": 69,
   "metadata": {},
   "outputs": [],
   "source": [
    "# GLOBAL VARIABLES\n",
    "annealer = LearningRateScheduler(lambda x: 1e-3 * 0.95 ** x, verbose=0)"
   ]
  },
  {
   "cell_type": "code",
   "execution_count": 75,
   "metadata": {},
   "outputs": [],
   "source": [
    "backend.clear_session()\n",
    "model = Sequential()\n",
    "\n",
    "model.add(Conv2D(32,kernel_size=3,activation='relu',input_shape=(28,28,1)))\n",
    "model.add(BatchNormalization())\n",
    "model.add(Conv2D(32,kernel_size=3,activation='relu'))\n",
    "model.add(BatchNormalization())\n",
    "model.add(Conv2D(32,kernel_size=5,strides=2,padding='same',activation='relu'))\n",
    "model.add(BatchNormalization())\n",
    "model.add(Dropout(0.4))\n",
    "\n",
    "model.add(Conv2D(64,kernel_size=3,activation='relu'))\n",
    "model.add(BatchNormalization())\n",
    "model.add(Conv2D(64,kernel_size=3,activation='relu'))\n",
    "model.add(BatchNormalization())\n",
    "model.add(Conv2D(64,kernel_size=5,strides=2,padding='same',activation='relu'))\n",
    "model.add(BatchNormalization())\n",
    "model.add(Dropout(0.4))\n",
    "\n",
    "model.add(Flatten())\n",
    "model.add(Dense(128, activation='relu'))\n",
    "model.add(BatchNormalization())\n",
    "model.add(Dropout(0.4))\n",
    "model.add(Dense(10, activation='softmax'))\n",
    "\n",
    "model.compile(optimizer=\"adam\", loss=\"categorical_crossentropy\", metrics=[\"accuracy\"])"
   ]
  },
  {
   "cell_type": "code",
   "execution_count": 76,
   "metadata": {},
   "outputs": [
    {
     "name": "stdout",
     "output_type": "stream",
     "text": [
      "Epoch 1/35\n",
      "1064/1064 [==============================] - 103s 96ms/step - loss: 0.3680 - accuracy: 0.8866 - val_loss: 0.0629 - val_accuracy: 0.9790\n",
      "Epoch 2/35\n",
      "1064/1064 [==============================] - 105s 98ms/step - loss: 0.1071 - accuracy: 0.9679 - val_loss: 0.0320 - val_accuracy: 0.9895\n",
      "Epoch 3/35\n",
      "1064/1064 [==============================] - 105s 99ms/step - loss: 0.0822 - accuracy: 0.9755 - val_loss: 0.0255 - val_accuracy: 0.9920\n",
      "Epoch 4/35\n",
      "1064/1064 [==============================] - 115s 108ms/step - loss: 0.0700 - accuracy: 0.9788 - val_loss: 0.0305 - val_accuracy: 0.9904\n",
      "Epoch 5/35\n",
      "1064/1064 [==============================] - 106s 100ms/step - loss: 0.0645 - accuracy: 0.9808 - val_loss: 0.0223 - val_accuracy: 0.9916\n",
      "Epoch 6/35\n",
      "1064/1064 [==============================] - 107s 100ms/step - loss: 0.0537 - accuracy: 0.9844 - val_loss: 0.0497 - val_accuracy: 0.9849\n",
      "Epoch 7/35\n",
      "1064/1064 [==============================] - 108s 101ms/step - loss: 0.0491 - accuracy: 0.9857 - val_loss: 0.0211 - val_accuracy: 0.9924\n",
      "Epoch 8/35\n",
      "1064/1064 [==============================] - 108s 101ms/step - loss: 0.0457 - accuracy: 0.9863 - val_loss: 0.0151 - val_accuracy: 0.9952\n",
      "Epoch 9/35\n",
      "1064/1064 [==============================] - 111s 105ms/step - loss: 0.0432 - accuracy: 0.9877 - val_loss: 0.0230 - val_accuracy: 0.9931\n",
      "Epoch 10/35\n",
      "1064/1064 [==============================] - 107s 100ms/step - loss: 0.0403 - accuracy: 0.9881 - val_loss: 0.0128 - val_accuracy: 0.9959\n",
      "Epoch 11/35\n",
      "1064/1064 [==============================] - 108s 101ms/step - loss: 0.0375 - accuracy: 0.9890 - val_loss: 0.0150 - val_accuracy: 0.9953\n",
      "Epoch 12/35\n",
      "1064/1064 [==============================] - 107s 100ms/step - loss: 0.0359 - accuracy: 0.9896 - val_loss: 0.0170 - val_accuracy: 0.9947\n",
      "Epoch 13/35\n",
      "1064/1064 [==============================] - 141s 132ms/step - loss: 0.0331 - accuracy: 0.9901 - val_loss: 0.0155 - val_accuracy: 0.9953\n",
      "Epoch 14/35\n",
      "1064/1064 [==============================] - 157s 148ms/step - loss: 0.0311 - accuracy: 0.9908 - val_loss: 0.0136 - val_accuracy: 0.9962\n",
      "Epoch 15/35\n",
      "1064/1064 [==============================] - 107s 100ms/step - loss: 0.0313 - accuracy: 0.9911 - val_loss: 0.0180 - val_accuracy: 0.9945\n",
      "Epoch 16/35\n",
      "1064/1064 [==============================] - 104s 98ms/step - loss: 0.0279 - accuracy: 0.9918 - val_loss: 0.0132 - val_accuracy: 0.9950\n",
      "Epoch 17/35\n",
      "1064/1064 [==============================] - 106s 100ms/step - loss: 0.0257 - accuracy: 0.9924 - val_loss: 0.0147 - val_accuracy: 0.9958\n",
      "Epoch 18/35\n",
      "1064/1064 [==============================] - 110s 103ms/step - loss: 0.0247 - accuracy: 0.9924 - val_loss: 0.0143 - val_accuracy: 0.9953\n",
      "Epoch 19/35\n",
      "1064/1064 [==============================] - 108s 101ms/step - loss: 0.0243 - accuracy: 0.9928 - val_loss: 0.0168 - val_accuracy: 0.9945\n",
      "Epoch 20/35\n",
      "1064/1064 [==============================] - 109s 102ms/step - loss: 0.0235 - accuracy: 0.9929 - val_loss: 0.0114 - val_accuracy: 0.9965\n",
      "Epoch 21/35\n",
      "1064/1064 [==============================] - 107s 101ms/step - loss: 0.0232 - accuracy: 0.9932 - val_loss: 0.0111 - val_accuracy: 0.9963\n",
      "Epoch 22/35\n",
      "1064/1064 [==============================] - 108s 101ms/step - loss: 0.0209 - accuracy: 0.9938 - val_loss: 0.0117 - val_accuracy: 0.9963\n",
      "Epoch 23/35\n",
      "1064/1064 [==============================] - 107s 101ms/step - loss: 0.0213 - accuracy: 0.9933 - val_loss: 0.0126 - val_accuracy: 0.9961\n",
      "Epoch 24/35\n",
      "1064/1064 [==============================] - 105s 99ms/step - loss: 0.0197 - accuracy: 0.9941 - val_loss: 0.0121 - val_accuracy: 0.9962\n",
      "Epoch 25/35\n",
      "1064/1064 [==============================] - 105s 99ms/step - loss: 0.0198 - accuracy: 0.9938 - val_loss: 0.0107 - val_accuracy: 0.9968\n",
      "Epoch 26/35\n",
      "1064/1064 [==============================] - 105s 98ms/step - loss: 0.0182 - accuracy: 0.9947 - val_loss: 0.0111 - val_accuracy: 0.9965\n",
      "Epoch 27/35\n",
      "1064/1064 [==============================] - 105s 99ms/step - loss: 0.0179 - accuracy: 0.9945 - val_loss: 0.0132 - val_accuracy: 0.9957\n",
      "Epoch 28/35\n",
      "1064/1064 [==============================] - 105s 99ms/step - loss: 0.0180 - accuracy: 0.9944 - val_loss: 0.0121 - val_accuracy: 0.9963\n",
      "Epoch 29/35\n",
      "1064/1064 [==============================] - 105s 98ms/step - loss: 0.0170 - accuracy: 0.9947 - val_loss: 0.0123 - val_accuracy: 0.9959\n",
      "Epoch 30/35\n",
      "1064/1064 [==============================] - 104s 98ms/step - loss: 0.0169 - accuracy: 0.9948 - val_loss: 0.0118 - val_accuracy: 0.9963\n",
      "Epoch 31/35\n",
      "1064/1064 [==============================] - 105s 98ms/step - loss: 0.0167 - accuracy: 0.9950 - val_loss: 0.0116 - val_accuracy: 0.9965\n",
      "Epoch 32/35\n",
      "1064/1064 [==============================] - 105s 98ms/step - loss: 0.0165 - accuracy: 0.9952 - val_loss: 0.0108 - val_accuracy: 0.9963\n",
      "Epoch 33/35\n",
      "1064/1064 [==============================] - 105s 99ms/step - loss: 0.0141 - accuracy: 0.9958 - val_loss: 0.0111 - val_accuracy: 0.9969\n",
      "Epoch 34/35\n",
      "1064/1064 [==============================] - 107s 101ms/step - loss: 0.0146 - accuracy: 0.9956 - val_loss: 0.0128 - val_accuracy: 0.9961\n",
      "Epoch 35/35\n",
      "1064/1064 [==============================] - 125s 118ms/step - loss: 0.0142 - accuracy: 0.9957 - val_loss: 0.0108 - val_accuracy: 0.9968\n",
      "Epochs=35, Train accuracy=0.995768666267395, Validation accuracy=0.996924877166748\n"
     ]
    }
   ],
   "source": [
    "# CREATE VALIDATION SET\n",
    "X_train2, X_val2, Y_train2, Y_val2 = x_train, x_test, y_train, y_test\n",
    "# TRAIN NETWORK\n",
    "epochs = 35\n",
    "    \n",
    "# CREATE MORE TRAINING IMAGES VIA DATA AUGMENTATION\n",
    "datagen = ImageDataGenerator(\n",
    "        rotation_range=10,  \n",
    "        zoom_range = 0.1,  \n",
    "        width_shift_range=0.1, \n",
    "        height_shift_range=0.1)\n",
    "# TRAIN NETWORK\n",
    "history = model.fit(datagen.flow(X_train2,Y_train2, batch_size=64), \n",
    "    epochs = epochs, steps_per_epoch = X_train2.shape[0]//64,\n",
    "    validation_data = (X_val2,Y_val2), callbacks=[annealer], verbose=1)\n",
    "\n",
    "print(f\"Epochs={epochs}, Train accuracy={max(history.history['accuracy'])}, Validation accuracy={max(history.history['val_accuracy'])}\")"
   ]
  },
  {
   "cell_type": "code",
   "execution_count": 77,
   "metadata": {},
   "outputs": [
    {
     "data": {
      "image/png": "[encoded data removed]",
      "text/plain": [
       "<Figure size 1080x360 with 1 Axes>"
      ]
     },
     "metadata": {
      "needs_background": "light"
     },
     "output_type": "display_data"
    }
   ],
   "source": [
    "# PLOT ACCURACIES\n",
    "plt.figure(figsize=(15,5))\n",
    "plt.plot(history.history['val_accuracy'])\n",
    "plt.title('model accuracy')\n",
    "plt.ylabel('accuracy')\n",
    "plt.xlabel('epoch')\n",
    "axes = plt.gca()\n",
    "axes.set_ylim([0.98,1])\n",
    "plt.show()"
   ]
  },
  {
   "cell_type": "code",
   "execution_count": 23,
   "metadata": {},
   "outputs": [
    {
     "name": "stdout",
     "output_type": "stream",
     "text": [
      "INFO:tensorflow:Assets written to: model/assets\n"
     ]
    }
   ],
   "source": [
    "model.save(\"../../model/model\")"
   ]
  },
  {
   "cell_type": "code",
   "execution_count": null,
   "metadata": {},
   "outputs": [],
   "source": []
  }
 ],
 "metadata": {
  "kernelspec": {
   "display_name": "Python 3.6.13 ('PythonAdv')",
   "language": "python",
   "name": "python3"
  },
  "language_info": {
   "codemirror_mode": {
    "name": "ipython",
    "version": 3
   },
   "file_extension": ".py",
   "mimetype": "text/x-python",
   "name": "python",
   "nbconvert_exporter": "python",
   "pygments_lexer": "ipython3",
   "version": "3.6.13"
  },
  "orig_nbformat": 4,
  "vscode": {
   "interpreter": {
    "hash": "385511661554d432d8d350774db40ede9fe3f66e04b033f232fafc0f9dd06b04"
   }
  }
 },
 "nbformat": 4,
 "nbformat_minor": 2
}
